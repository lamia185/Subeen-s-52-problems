{
  "nbformat": 4,
  "nbformat_minor": 0,
  "metadata": {
    "colab": {
      "name": "subeen bhai 1-10.ipynb",
      "provenance": [],
      "authorship_tag": "ABX9TyN7+YVD6iG1sGZbTXAvsvrc",
      "include_colab_link": true
    },
    "kernelspec": {
      "name": "python3",
      "display_name": "Python 3"
    },
    "language_info": {
      "name": "python"
    }
  },
  "cells": [
    {
      "cell_type": "markdown",
      "metadata": {
        "id": "view-in-github",
        "colab_type": "text"
      },
      "source": [
        "<a href=\"https://colab.research.google.com/github/TanzimRusho/Subeen-s-52-problems/blob/master/subeen_bhai_1_10.ipynb\" target=\"_parent\"><img src=\"https://colab.research.google.com/assets/colab-badge.svg\" alt=\"Open In Colab\"/></a>"
      ]
    },
    {
      "cell_type": "code",
      "metadata": {
        "id": "4-_ISp--d3X3"
      },
      "source": [
        "# Problem - 7, Number Counting\n",
        "#include <stdio.h>\n",
        "#include <stdlib.h>\n",
        "\n",
        "int main()\n",
        "{\n",
        "    char line[100000];\n",
        "    char *p, *e;\n",
        "    int T;\n",
        "    long input;\n",
        "    int count;\n",
        "    int i;\n",
        "    \n",
        "    scanf(\"%d\", &T);\n",
        "    \n",
        "    for(i=0; i<T; ++i)\n",
        "    {\n",
        "        count = 0;\n",
        "        scanf(\" %[^\\n]\", line);\n",
        "        //printf(\"%s\\n\", line);\n",
        "        \n",
        "        p = line;\n",
        "        \n",
        "        for(;;p=e)\n",
        "        {\n",
        "            input = strtol(p, &e, 10);\n",
        "            if(p==e)\n",
        "                break;\n",
        "                \n",
        "            ++count;\n",
        "        }\n",
        "        printf(\"%d\\n\", count);\n",
        "    }    \n",
        "    return 0;\n",
        "} "
      ],
      "execution_count": null,
      "outputs": []
    },
    {
      "cell_type": "code",
      "metadata": {
        "colab": {
          "base_uri": "https://localhost:8080/"
        },
        "id": "Qp8RElBxY3Xr",
        "outputId": "1913e173-0cb5-49fc-c055-6773194a40fc"
      },
      "source": [
        "# Problem - 6\n",
        "T = int(input())\n",
        "for i in range(T):\n",
        "  number = input()\n",
        "  print(\"Sum = {}\".format(int(number[0]) + int(number[len(number)-1])))"
      ],
      "execution_count": null,
      "outputs": [
        {
          "output_type": "stream",
          "text": [
            "5\n",
            "12345\n",
            "Sum = 6\n",
            "56789\n",
            "Sum = 14\n",
            "14310\n",
            "Sum = 1\n",
            "10062\n",
            "Sum = 3\n",
            "96587\n",
            "Sum = 16\n"
          ],
          "name": "stdout"
        }
      ]
    },
    {
      "cell_type": "code",
      "metadata": {
        "colab": {
          "base_uri": "https://localhost:8080/"
        },
        "id": "dxhMTpKDJnT8",
        "outputId": "7e0acbfa-258f-485e-c3c4-a8aee707291f"
      },
      "source": [
        "# Problem - 5\n",
        "T = input()\n",
        "T = int(T)\n",
        "for i in range(T):\n",
        "    num = input()\n",
        "    num = int(num)\n",
        "    for j in range(num):\n",
        "        for k in range(num):\n",
        "            print(\"*\", end=\"\")\n",
        "        print()\n",
        "\n",
        "    print()"
      ],
      "execution_count": null,
      "outputs": [
        {
          "output_type": "stream",
          "text": [
            "3\n",
            "1\n",
            "*\n",
            "\n",
            "3\n",
            "***\n",
            "***\n",
            "***\n",
            "\n",
            "5\n",
            "*****\n",
            "*****\n",
            "*****\n",
            "*****\n",
            "*****\n",
            "\n"
          ],
          "name": "stdout"
        }
      ]
    },
    {
      "cell_type": "code",
      "metadata": {
        "colab": {
          "base_uri": "https://localhost:8080/"
        },
        "id": "xMpNz4xPS_4J",
        "outputId": "70538fda-e301-401b-d82c-f183f0483f42"
      },
      "source": [
        "# Problem - 4\n",
        "T = input()\n",
        "T = int(T)\n",
        "for i in range(T):\n",
        "    num = input()\n",
        "    num = int(num)\n",
        "    print(\"Case {}:\".format(i+1), end=\" \")\n",
        "\n",
        "    for j in range(1, num+1):\n",
        "        if num % j == 0:\n",
        "            print(\"{}\".format(j), end=\" \")\n",
        "\n",
        "    print()\n"
      ],
      "execution_count": null,
      "outputs": [
        {
          "output_type": "stream",
          "text": [
            "3\n",
            "6\n",
            "Case 1: 1 2 3 6 \n",
            "15\n",
            "Case 2: 1 3 5 15 \n",
            "23\n",
            "Case 3: 1 23 \n"
          ],
          "name": "stdout"
        }
      ]
    },
    {
      "cell_type": "code",
      "metadata": {
        "colab": {
          "base_uri": "https://localhost:8080/"
        },
        "id": "4O3ie71OHCZr",
        "outputId": "a5ec6859-bc70-4b5a-fa94-4ae1e51212ea"
      },
      "source": [
        "# Problem-3\n",
        "\n",
        "for num in range(1, 1001):\n",
        "    print(abs(num-1001), end=\"\\n\" if num % 5 == 0 else \"\\t\")\n",
        "    "
      ],
      "execution_count": null,
      "outputs": [
        {
          "output_type": "stream",
          "text": [
            "1000\t999\t998\t997\t996\n",
            "995\t994\t993\t992\t991\n",
            "990\t989\t988\t987\t986\n",
            "985\t984\t983\t982\t981\n",
            "980\t979\t978\t977\t976\n",
            "975\t974\t973\t972\t971\n",
            "970\t969\t968\t967\t966\n",
            "965\t964\t963\t962\t961\n",
            "960\t959\t958\t957\t956\n",
            "955\t954\t953\t952\t951\n",
            "950\t949\t948\t947\t946\n",
            "945\t944\t943\t942\t941\n",
            "940\t939\t938\t937\t936\n",
            "935\t934\t933\t932\t931\n",
            "930\t929\t928\t927\t926\n",
            "925\t924\t923\t922\t921\n",
            "920\t919\t918\t917\t916\n",
            "915\t914\t913\t912\t911\n",
            "910\t909\t908\t907\t906\n",
            "905\t904\t903\t902\t901\n",
            "900\t899\t898\t897\t896\n",
            "895\t894\t893\t892\t891\n",
            "890\t889\t888\t887\t886\n",
            "885\t884\t883\t882\t881\n",
            "880\t879\t878\t877\t876\n",
            "875\t874\t873\t872\t871\n",
            "870\t869\t868\t867\t866\n",
            "865\t864\t863\t862\t861\n",
            "860\t859\t858\t857\t856\n",
            "855\t854\t853\t852\t851\n",
            "850\t849\t848\t847\t846\n",
            "845\t844\t843\t842\t841\n",
            "840\t839\t838\t837\t836\n",
            "835\t834\t833\t832\t831\n",
            "830\t829\t828\t827\t826\n",
            "825\t824\t823\t822\t821\n",
            "820\t819\t818\t817\t816\n",
            "815\t814\t813\t812\t811\n",
            "810\t809\t808\t807\t806\n",
            "805\t804\t803\t802\t801\n",
            "800\t799\t798\t797\t796\n",
            "795\t794\t793\t792\t791\n",
            "790\t789\t788\t787\t786\n",
            "785\t784\t783\t782\t781\n",
            "780\t779\t778\t777\t776\n",
            "775\t774\t773\t772\t771\n",
            "770\t769\t768\t767\t766\n",
            "765\t764\t763\t762\t761\n",
            "760\t759\t758\t757\t756\n",
            "755\t754\t753\t752\t751\n",
            "750\t749\t748\t747\t746\n",
            "745\t744\t743\t742\t741\n",
            "740\t739\t738\t737\t736\n",
            "735\t734\t733\t732\t731\n",
            "730\t729\t728\t727\t726\n",
            "725\t724\t723\t722\t721\n",
            "720\t719\t718\t717\t716\n",
            "715\t714\t713\t712\t711\n",
            "710\t709\t708\t707\t706\n",
            "705\t704\t703\t702\t701\n",
            "700\t699\t698\t697\t696\n",
            "695\t694\t693\t692\t691\n",
            "690\t689\t688\t687\t686\n",
            "685\t684\t683\t682\t681\n",
            "680\t679\t678\t677\t676\n",
            "675\t674\t673\t672\t671\n",
            "670\t669\t668\t667\t666\n",
            "665\t664\t663\t662\t661\n",
            "660\t659\t658\t657\t656\n",
            "655\t654\t653\t652\t651\n",
            "650\t649\t648\t647\t646\n",
            "645\t644\t643\t642\t641\n",
            "640\t639\t638\t637\t636\n",
            "635\t634\t633\t632\t631\n",
            "630\t629\t628\t627\t626\n",
            "625\t624\t623\t622\t621\n",
            "620\t619\t618\t617\t616\n",
            "615\t614\t613\t612\t611\n",
            "610\t609\t608\t607\t606\n",
            "605\t604\t603\t602\t601\n",
            "600\t599\t598\t597\t596\n",
            "595\t594\t593\t592\t591\n",
            "590\t589\t588\t587\t586\n",
            "585\t584\t583\t582\t581\n",
            "580\t579\t578\t577\t576\n",
            "575\t574\t573\t572\t571\n",
            "570\t569\t568\t567\t566\n",
            "565\t564\t563\t562\t561\n",
            "560\t559\t558\t557\t556\n",
            "555\t554\t553\t552\t551\n",
            "550\t549\t548\t547\t546\n",
            "545\t544\t543\t542\t541\n",
            "540\t539\t538\t537\t536\n",
            "535\t534\t533\t532\t531\n",
            "530\t529\t528\t527\t526\n",
            "525\t524\t523\t522\t521\n",
            "520\t519\t518\t517\t516\n",
            "515\t514\t513\t512\t511\n",
            "510\t509\t508\t507\t506\n",
            "505\t504\t503\t502\t501\n",
            "500\t499\t498\t497\t496\n",
            "495\t494\t493\t492\t491\n",
            "490\t489\t488\t487\t486\n",
            "485\t484\t483\t482\t481\n",
            "480\t479\t478\t477\t476\n",
            "475\t474\t473\t472\t471\n",
            "470\t469\t468\t467\t466\n",
            "465\t464\t463\t462\t461\n",
            "460\t459\t458\t457\t456\n",
            "455\t454\t453\t452\t451\n",
            "450\t449\t448\t447\t446\n",
            "445\t444\t443\t442\t441\n",
            "440\t439\t438\t437\t436\n",
            "435\t434\t433\t432\t431\n",
            "430\t429\t428\t427\t426\n",
            "425\t424\t423\t422\t421\n",
            "420\t419\t418\t417\t416\n",
            "415\t414\t413\t412\t411\n",
            "410\t409\t408\t407\t406\n",
            "405\t404\t403\t402\t401\n",
            "400\t399\t398\t397\t396\n",
            "395\t394\t393\t392\t391\n",
            "390\t389\t388\t387\t386\n",
            "385\t384\t383\t382\t381\n",
            "380\t379\t378\t377\t376\n",
            "375\t374\t373\t372\t371\n",
            "370\t369\t368\t367\t366\n",
            "365\t364\t363\t362\t361\n",
            "360\t359\t358\t357\t356\n",
            "355\t354\t353\t352\t351\n",
            "350\t349\t348\t347\t346\n",
            "345\t344\t343\t342\t341\n",
            "340\t339\t338\t337\t336\n",
            "335\t334\t333\t332\t331\n",
            "330\t329\t328\t327\t326\n",
            "325\t324\t323\t322\t321\n",
            "320\t319\t318\t317\t316\n",
            "315\t314\t313\t312\t311\n",
            "310\t309\t308\t307\t306\n",
            "305\t304\t303\t302\t301\n",
            "300\t299\t298\t297\t296\n",
            "295\t294\t293\t292\t291\n",
            "290\t289\t288\t287\t286\n",
            "285\t284\t283\t282\t281\n",
            "280\t279\t278\t277\t276\n",
            "275\t274\t273\t272\t271\n",
            "270\t269\t268\t267\t266\n",
            "265\t264\t263\t262\t261\n",
            "260\t259\t258\t257\t256\n",
            "255\t254\t253\t252\t251\n",
            "250\t249\t248\t247\t246\n",
            "245\t244\t243\t242\t241\n",
            "240\t239\t238\t237\t236\n",
            "235\t234\t233\t232\t231\n",
            "230\t229\t228\t227\t226\n",
            "225\t224\t223\t222\t221\n",
            "220\t219\t218\t217\t216\n",
            "215\t214\t213\t212\t211\n",
            "210\t209\t208\t207\t206\n",
            "205\t204\t203\t202\t201\n",
            "200\t199\t198\t197\t196\n",
            "195\t194\t193\t192\t191\n",
            "190\t189\t188\t187\t186\n",
            "185\t184\t183\t182\t181\n",
            "180\t179\t178\t177\t176\n",
            "175\t174\t173\t172\t171\n",
            "170\t169\t168\t167\t166\n",
            "165\t164\t163\t162\t161\n",
            "160\t159\t158\t157\t156\n",
            "155\t154\t153\t152\t151\n",
            "150\t149\t148\t147\t146\n",
            "145\t144\t143\t142\t141\n",
            "140\t139\t138\t137\t136\n",
            "135\t134\t133\t132\t131\n",
            "130\t129\t128\t127\t126\n",
            "125\t124\t123\t122\t121\n",
            "120\t119\t118\t117\t116\n",
            "115\t114\t113\t112\t111\n",
            "110\t109\t108\t107\t106\n",
            "105\t104\t103\t102\t101\n",
            "100\t99\t98\t97\t96\n",
            "95\t94\t93\t92\t91\n",
            "90\t89\t88\t87\t86\n",
            "85\t84\t83\t82\t81\n",
            "80\t79\t78\t77\t76\n",
            "75\t74\t73\t72\t71\n",
            "70\t69\t68\t67\t66\n",
            "65\t64\t63\t62\t61\n",
            "60\t59\t58\t57\t56\n",
            "55\t54\t53\t52\t51\n",
            "50\t49\t48\t47\t46\n",
            "45\t44\t43\t42\t41\n",
            "40\t39\t38\t37\t36\n",
            "35\t34\t33\t32\t31\n",
            "30\t29\t28\t27\t26\n",
            "25\t24\t23\t22\t21\n",
            "20\t19\t18\t17\t16\n",
            "15\t14\t13\t12\t11\n",
            "10\t9\t8\t7\t6\n",
            "5\t4\t3\t2\t1\n"
          ],
          "name": "stdout"
        }
      ]
    },
    {
      "cell_type": "code",
      "metadata": {
        "id": "MubPerRnG2bH"
      },
      "source": [
        "# Problem 2 (C-version)\n",
        "\n",
        "#include <stdio.h>\n",
        "#include <string.h>\n",
        "\n",
        "int main()\n",
        "{\n",
        "    int i, T;\n",
        "    char num[101];\n",
        "    \n",
        "    scanf(\"%d\\n\", &T);\n",
        "    \n",
        "    for (i = T; i > 0; --i)\n",
        "    {\n",
        "        scanf(\"%s\\n\", &num);\n",
        "        \n",
        "        if ((int)(num[strlen(num)-1]) % 2 == 0)\n",
        "            printf(\"even\\n\");\n",
        "        else \n",
        "            printf(\"odd\\n\");\n",
        "        \n",
        "    }\n",
        "        \n",
        "}"
      ],
      "execution_count": null,
      "outputs": []
    },
    {
      "cell_type": "code",
      "metadata": {
        "colab": {
          "base_uri": "https://localhost:8080/"
        },
        "id": "iGYjCwRxDjSG",
        "outputId": "a90d2a00-bdd8-40ba-d92d-c730e82bdcbc"
      },
      "source": [
        "# Problem 2\n",
        "T = input()\n",
        "T = int(T)\n",
        "\n",
        "nums = []\n",
        "for i in range(T):\n",
        "    x = input()\n",
        "    nums.append(int(x))\n",
        "\n",
        "for num in nums:\n",
        "    if num % 2 == 0:\n",
        "        print(\"even\")\n",
        "    else:\n",
        "        print(\"odd\")\n"
      ],
      "execution_count": null,
      "outputs": [
        {
          "output_type": "stream",
          "text": [
            "2\n",
            "10000000000000000000000000000000000000000000000\n",
            "300000000000000000000000000000000000000000000000000000000000000000000000000000000000000000000000000000001\n",
            "even\n",
            "odd\n"
          ],
          "name": "stdout"
        }
      ]
    },
    {
      "cell_type": "code",
      "metadata": {
        "colab": {
          "base_uri": "https://localhost:8080/"
        },
        "id": "7RiGL6XB9ELo",
        "outputId": "923b45e7-a188-46c6-fd10-3f1a0f622e5a"
      },
      "source": [
        "# Problem 1\n",
        "T = input()\n",
        "T = int(T)\n",
        "\n",
        "nums = []\n",
        "for i in range(T):\n",
        "    x = input()\n",
        "    nums.append(int(x))\n",
        "\n",
        "for num in nums:\n",
        "    if num % 2 == 0:\n",
        "        print(\"even\")\n",
        "    else:\n",
        "        print(\"odd\")"
      ],
      "execution_count": null,
      "outputs": [
        {
          "output_type": "stream",
          "text": [
            "3\n",
            "100\n",
            "0\n",
            "1111\n",
            "even\n",
            "even\n",
            "odd\n"
          ],
          "name": "stdout"
        }
      ]
    },
    {
      "cell_type": "markdown",
      "metadata": {
        "id": "lbQYshO-Bvrc"
      },
      "source": [
        "4\n",
        "-5\n",
        "0\n",
        "3\n",
        "-4"
      ]
    }
  ]
}
